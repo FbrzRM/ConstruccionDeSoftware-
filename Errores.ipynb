{
  "nbformat": 4,
  "nbformat_minor": 0,
  "metadata": {
    "colab": {
      "name": "Errores.ipynb",
      "provenance": [],
      "include_colab_link": true
    },
    "kernelspec": {
      "name": "python3",
      "display_name": "Python 3"
    },
    "language_info": {
      "name": "python"
    }
  },
  "cells": [
    {
      "cell_type": "markdown",
      "metadata": {
        "id": "view-in-github",
        "colab_type": "text"
      },
      "source": [
        "<a href=\"https://colab.research.google.com/github/FbrzRM/ConstruccionDeSoftware-/blob/master/Errores.ipynb\" target=\"_parent\"><img src=\"https://colab.research.google.com/assets/colab-badge.svg\" alt=\"Open In Colab\"/></a>"
      ]
    },
    {
      "cell_type": "markdown",
      "metadata": {
        "id": "NywlHqb0apco"
      },
      "source": [
        "# 1 Error Semántico\n",
        "https://runestone.academy/runestone/books/published/thinkcspy/GeneralIntro/SemanticErrors.html#:~:text=A%20semantic%20error%20is%20an%20error%20in%20logic.,correctly.%20This%20would%20be%20considered%20a%20run-time%20error."
      ]
    },
    {
      "cell_type": "code",
      "metadata": {
        "colab": {
          "base_uri": "https://localhost:8080/"
        },
        "id": "Db3NCV_galro",
        "outputId": "9f6e0647-ab39-4a2e-cefc-446c9e681a98"
      },
      "source": [
        "total=98\n",
        "porciento=total/100\n",
        "print(porciento)"
      ],
      "execution_count": 1,
      "outputs": [
        {
          "output_type": "stream",
          "name": "stdout",
          "text": [
            "0.98\n"
          ]
        }
      ]
    },
    {
      "cell_type": "markdown",
      "source": [
        "# 2 Error sintáctico \n",
        "https://runestone.academy/runestone/books/published/thinkcspy/GeneralIntro/Syntaxerrors.html"
      ],
      "metadata": {
        "id": "cTY9lxcsymtJ"
      }
    },
    {
      "cell_type": "code",
      "metadata": {
        "id": "gn9eR4vab0Dy"
      },
      "source": [
        "b=1\n",
        "c=3\n",
        "a=(b+c/2)"
      ],
      "execution_count": 2,
      "outputs": []
    },
    {
      "cell_type": "markdown",
      "metadata": {
        "id": "MAHs5_ficQQQ"
      },
      "source": [
        "# 1 Error en tiempo de ejecución \n",
        "https://runestone.academy/runestone/books/published/thinkcspy/GeneralIntro/RuntimeErrors.html"
      ]
    },
    {
      "cell_type": "code",
      "metadata": {
        "id": "b4kxMKK5cPbU",
        "colab": {
          "base_uri": "https://localhost:8080/"
        },
        "outputId": "7b31681f-43e2-4519-f7ca-2a255c7365c7"
      },
      "source": [
        "c=2\n",
        "b=1/c\n",
        "c"
      ],
      "execution_count": 3,
      "outputs": [
        {
          "output_type": "execute_result",
          "data": {
            "text/plain": [
              "2"
            ]
          },
          "metadata": {},
          "execution_count": 3
        }
      ]
    }
  ]
}